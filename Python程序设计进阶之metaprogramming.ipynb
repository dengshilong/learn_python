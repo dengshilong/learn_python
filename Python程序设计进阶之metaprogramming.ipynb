{
 "cells": [
  {
   "cell_type": "markdown",
   "metadata": {},
   "source": [
    "前些天在看David Beazley的[Python3 metaprogramming](https://www.youtube.com/watch?v=sPiWg5jSoZI)视频，觉得是时候总结下视频中学到的内容, 这篇文章主要是这个视频的笔记，以及关于metaclass的一些思考."
   ]
  },
  {
   "cell_type": "markdown",
   "metadata": {},
   "source": [
    "## 装饰器"
   ]
  },
  {
   "cell_type": "markdown",
   "metadata": {},
   "source": [
    "首先看一个需求，就是想在函数被调用时，记录一下，可以简单的加个print"
   ]
  },
  {
   "cell_type": "code",
   "execution_count": 1,
   "metadata": {},
   "outputs": [
    {
     "name": "stdout",
     "output_type": "stream",
     "text": [
      "add\n",
      "8\n",
      "sub\n",
      "3\n"
     ]
    }
   ],
   "source": [
    "def add(x, y):\n",
    "    print('add')\n",
    "    return x + y\n",
    "\n",
    "def sub(x, y):\n",
    "    print('sub')\n",
    "    return x - y\n",
    "\n",
    "def mul(x, y):\n",
    "    print('mul')\n",
    "    return x * y\n",
    "\n",
    "def div(x, y):\n",
    "    print('div')\n",
    "    return x / y\n",
    "\n",
    "print(add(3, 5))\n",
    "print(sub(5, 2))"
   ]
  },
  {
   "cell_type": "markdown",
   "metadata": {},
   "source": [
    "但是这样的话, print语句就重复了, 每个函数里都得加print, 于是我们可以使用装饰器"
   ]
  },
  {
   "cell_type": "code",
   "execution_count": 2,
   "metadata": {},
   "outputs": [],
   "source": [
    "# 一个简单的装饰器\n",
    "def debug(func):\n",
    "    def wrapper(*args, **kwargs):\n",
    "        print(func.__name__)\n",
    "        return func(*args, **kwargs)\n",
    "    return wrapper"
   ]
  },
  {
   "cell_type": "code",
   "execution_count": 3,
   "metadata": {},
   "outputs": [
    {
     "name": "stdout",
     "output_type": "stream",
     "text": [
      "<function debug at 0x10f568e18>\n"
     ]
    }
   ],
   "source": [
    "print(debug)"
   ]
  },
  {
   "cell_type": "code",
   "execution_count": 4,
   "metadata": {},
   "outputs": [
    {
     "name": "stdout",
     "output_type": "stream",
     "text": [
      "add\n",
      "8\n",
      "sub\n",
      "3\n"
     ]
    }
   ],
   "source": [
    "@debug\n",
    "def add(x, y):\n",
    "    return x + y\n",
    "\n",
    "@debug\n",
    "def sub(x, y):\n",
    "    return x - y\n",
    "\n",
    "@debug\n",
    "def mul(x, y):\n",
    "    return x * y\n",
    "\n",
    "@debug\n",
    "def div(x, y):\n",
    "    return x / y\n",
    "\n",
    "print(add(3, 5))\n",
    "print(sub(5, 2))"
   ]
  },
  {
   "cell_type": "markdown",
   "metadata": {},
   "source": [
    "### 使用functools"
   ]
  },
  {
   "cell_type": "markdown",
   "metadata": {},
   "source": [
    "但是这个简单的装饰器是存在问题的，它会忽略被装饰的函数"
   ]
  },
  {
   "cell_type": "code",
   "execution_count": 5,
   "metadata": {},
   "outputs": [
    {
     "name": "stdout",
     "output_type": "stream",
     "text": [
      "<function debug.<locals>.wrapper at 0x10f568bf8>\n"
     ]
    }
   ],
   "source": [
    "print(add)"
   ]
  },
  {
   "cell_type": "markdown",
   "metadata": {},
   "source": [
    "这里add函数经过debug装饰器装饰后，函数名都被忽略了，这个时候functools模块就派上用场了, 里面的wraps装饰器就是用来解决这个问题"
   ]
  },
  {
   "cell_type": "code",
   "execution_count": 6,
   "metadata": {},
   "outputs": [],
   "source": [
    "\n",
    "from functools import wraps\n",
    "\n",
    "def debug(func):\n",
    "    msg = func.__qualname__\n",
    "    @wraps(func)\n",
    "    def wrapper(*args, **kwargs):\n",
    "        print(msg)\n",
    "        return func(*args, **kwargs)\n",
    "    return wrapper"
   ]
  },
  {
   "cell_type": "code",
   "execution_count": 7,
   "metadata": {},
   "outputs": [
    {
     "name": "stdout",
     "output_type": "stream",
     "text": [
      "add\n",
      "8\n",
      "sub\n",
      "3\n"
     ]
    }
   ],
   "source": [
    "@debug\n",
    "def add(x, y):\n",
    "    return x + y\n",
    "\n",
    "@debug\n",
    "def sub(x, y):\n",
    "    return x - y\n",
    "\n",
    "@debug\n",
    "def mul(x, y):\n",
    "    return x * y\n",
    "\n",
    "@debug\n",
    "def div(x, y):\n",
    "    return x / y\n",
    "\n",
    "print(add(3, 5))\n",
    "print(sub(5, 2))"
   ]
  },
  {
   "cell_type": "code",
   "execution_count": 8,
   "metadata": {},
   "outputs": [
    {
     "name": "stdout",
     "output_type": "stream",
     "text": [
      "<function add at 0x10f59d6a8>\n"
     ]
    }
   ],
   "source": [
    "print(add)"
   ]
  },
  {
   "cell_type": "markdown",
   "metadata": {},
   "source": [
    "### 带参数的装饰器"
   ]
  },
  {
   "cell_type": "markdown",
   "metadata": {},
   "source": [
    "有时候装饰器里想传入一些参数, 这时就可以写带参数的装饰器"
   ]
  },
  {
   "cell_type": "code",
   "execution_count": 9,
   "metadata": {},
   "outputs": [
    {
     "name": "stdout",
     "output_type": "stream",
     "text": [
      "###add\n",
      "5\n"
     ]
    }
   ],
   "source": [
    "# decorators with args\n",
    "from functools import wraps\n",
    "\n",
    "def debug(prefix=''):\n",
    "    def decroate(func):\n",
    "        msg = prefix + func.__qualname__\n",
    "        @wraps(func)\n",
    "        def wrapper(*args, **kwargs):\n",
    "            print(msg)\n",
    "            return func(*args, **kwargs)\n",
    "        return wrapper\n",
    "    return decroate\n",
    "\n",
    "@debug('###')\n",
    "def add(x, y):\n",
    "    return x + y\n",
    "\n",
    "print(add(3, 2))"
   ]
  },
  {
   "cell_type": "markdown",
   "metadata": {},
   "source": [
    "这种带参数的装饰器有一个头疼的问题是, 使用装饰器时, 如果不想传参数, 也得加上括号, 不然会报错"
   ]
  },
  {
   "cell_type": "code",
   "execution_count": 10,
   "metadata": {},
   "outputs": [
    {
     "ename": "TypeError",
     "evalue": "decroate() takes 1 positional argument but 2 were given",
     "output_type": "error",
     "traceback": [
      "\u001b[0;31m---------------------------------------------------------------------------\u001b[0m",
      "\u001b[0;31mTypeError\u001b[0m                                 Traceback (most recent call last)",
      "\u001b[0;32m<ipython-input-10-9a93be17056c>\u001b[0m in \u001b[0;36m<module>\u001b[0;34m\u001b[0m\n\u001b[1;32m      3\u001b[0m     \u001b[0;32mreturn\u001b[0m \u001b[0mx\u001b[0m \u001b[0;34m-\u001b[0m \u001b[0my\u001b[0m\u001b[0;34m\u001b[0m\u001b[0;34m\u001b[0m\u001b[0m\n\u001b[1;32m      4\u001b[0m \u001b[0;34m\u001b[0m\u001b[0m\n\u001b[0;32m----> 5\u001b[0;31m \u001b[0msub\u001b[0m\u001b[0;34m(\u001b[0m\u001b[0;36m5\u001b[0m\u001b[0;34m,\u001b[0m \u001b[0;36m3\u001b[0m\u001b[0;34m)\u001b[0m\u001b[0;34m\u001b[0m\u001b[0;34m\u001b[0m\u001b[0m\n\u001b[0m",
      "\u001b[0;31mTypeError\u001b[0m: decroate() takes 1 positional argument but 2 were given"
     ]
    }
   ],
   "source": [
    "@debug\n",
    "def sub(x, y):\n",
    "    return x - y\n",
    "\n",
    "sub(5, 3)"
   ]
  },
  {
   "cell_type": "markdown",
   "metadata": {},
   "source": [
    "加上括号后, 就不报错, 这很丑陋"
   ]
  },
  {
   "cell_type": "code",
   "execution_count": null,
   "metadata": {},
   "outputs": [],
   "source": [
    "@debug()\n",
    "def sub(x, y):\n",
    "    return x - y\n",
    "\n",
    "print(sub(5, 3))"
   ]
  },
  {
   "cell_type": "markdown",
   "metadata": {},
   "source": [
    "这里有一个小技巧, 实现如下"
   ]
  },
  {
   "cell_type": "code",
   "execution_count": 14,
   "metadata": {},
   "outputs": [],
   "source": [
    "from functools import wraps, partial\n",
    "\n",
    "def debug(func=None, prefix=''):\n",
    "    if func is None:\n",
    "        return partial(debug, prefix=prefix)\n",
    "    msg = prefix + func.__qualname__\n",
    "    @wraps(func)\n",
    "    def wrapper(*args, **kwargs):     \n",
    "        print(msg)\n",
    "        return func(*args, **kwargs)\n",
    "    return wrapper\n"
   ]
  },
  {
   "cell_type": "markdown",
   "metadata": {},
   "source": [
    "如此, 当使用默认参数时, 即便不带括号时，也不会报错"
   ]
  },
  {
   "cell_type": "code",
   "execution_count": 15,
   "metadata": {},
   "outputs": [
    {
     "name": "stdout",
     "output_type": "stream",
     "text": [
      "###add\n",
      "5\n",
      "sub\n",
      "2\n"
     ]
    }
   ],
   "source": [
    "@debug(prefix='###')\n",
    "def add(x, y):\n",
    "    return x + y\n",
    "\n",
    "\n",
    "@debug\n",
    "def sub(x, y):\n",
    "    return x - y\n",
    "\n",
    "print(add(3, 2))\n",
    "print(sub(5, 3))"
   ]
  },
  {
   "cell_type": "markdown",
   "metadata": {},
   "source": [
    "### 类装饰器"
   ]
  },
  {
   "cell_type": "markdown",
   "metadata": {},
   "source": [
    "以下我们定义一个Spam类,"
   ]
  },
  {
   "cell_type": "code",
   "execution_count": 16,
   "metadata": {},
   "outputs": [],
   "source": [
    "class Spam:\n",
    "    def a(self):\n",
    "        pass\n",
    "    def b(self):\n",
    "        pass\n",
    "    @classmethod\n",
    "    def c(cls):\n",
    "        pass\n",
    "    @staticmethod\n",
    "    def d():\n",
    "        pass"
   ]
  },
  {
   "cell_type": "markdown",
   "metadata": {},
   "source": [
    "然后我们想在类的方法被调用时, 能够记录下, 想上面的函数被调用时一样, 这时我们就会可以编写一个类装饰器"
   ]
  },
  {
   "cell_type": "code",
   "execution_count": 18,
   "metadata": {},
   "outputs": [
    {
     "name": "stdout",
     "output_type": "stream",
     "text": [
      "here <class '__main__.Spam'>\n",
      "Spam.a\n",
      "Spam.b\n"
     ]
    }
   ],
   "source": [
    "def debugmethods(cls):\n",
    "    print('here', cls)\n",
    "    # cls is class\n",
    "    for key, val in vars(cls).items():\n",
    "        if callable(val):\n",
    "            setattr(cls, key, debug(val))\n",
    "    return cls\n",
    "\n",
    "@debugmethods\n",
    "class Spam:\n",
    "    def a(self):\n",
    "        pass\n",
    "    def b(self):\n",
    "        pass\n",
    "    @classmethod\n",
    "    def c(cls):\n",
    "        pass\n",
    "    @staticmethod\n",
    "    def d():\n",
    "        pass\n",
    "\n",
    "spam = Spam()\n",
    "spam.a()\n",
    "spam.b()\n",
    "spam.c()\n",
    "spam.d()"
   ]
  },
  {
   "cell_type": "markdown",
   "metadata": {},
   "source": [
    "这里只打印了a和b, 没有打印c和d, 这什么原因呢? 这是因为classmethod和staticmethod都是descriptor, 也就是描述器, 它们没有实现`__call__`方法，也就不是callable的"
   ]
  },
  {
   "cell_type": "code",
   "execution_count": null,
   "metadata": {
    "scrolled": true
   },
   "outputs": [],
   "source": [
    "vars(Spam)"
   ]
  },
  {
   "cell_type": "markdown",
   "metadata": {},
   "source": [
    "我们也可以编写一个类装饰器, 当获取一个属性时, 打印日志"
   ]
  },
  {
   "cell_type": "code",
   "execution_count": null,
   "metadata": {},
   "outputs": [],
   "source": [
    "# debug access\n",
    "def debugattr(cls):\n",
    "    orig_getattribute = cls.__getattribute__\n",
    "    def __getattribute__(self, name):\n",
    "        print('Get:', name)\n",
    "        return orig_getattribute(self, name)\n",
    "    cls.__getattribute__ = __getattribute__\n",
    "    return cls\n",
    "\n",
    "@debugattr\n",
    "class Spam:\n",
    "    def __init__(self, x, y):\n",
    "        self.x = x\n",
    "        self.y = y\n",
    "\n",
    "spam = Spam(2, 3)\n",
    "print(spam.x)"
   ]
  },
  {
   "cell_type": "markdown",
   "metadata": {},
   "source": [
    "## metaclass"
   ]
  },
  {
   "cell_type": "markdown",
   "metadata": {},
   "source": [
    "现在我们想对所有的类都能打印日志，一个解决的办法是在所有的类前面都加上类装饰器"
   ]
  },
  {
   "cell_type": "code",
   "execution_count": null,
   "metadata": {},
   "outputs": [],
   "source": [
    "@debugmethods\n",
    "class Base:\n",
    "    def a(self):\n",
    "        pass\n",
    "    def b(self):\n",
    "        pass\n",
    "    \n",
    "@debugmethods\n",
    "class Spam(Base):\n",
    "    def a(self):\n",
    "        pass\n",
    "b = Base()\n",
    "b.a()\n",
    "s = Spam()\n",
    "s.a()"
   ]
  },
  {
   "cell_type": "markdown",
   "metadata": {},
   "source": [
    "但这样很麻烦，于是metaclass派上用场了, metaclass最强的地方是可以控制类的创建"
   ]
  },
  {
   "cell_type": "code",
   "execution_count": 19,
   "metadata": {},
   "outputs": [
    {
     "name": "stdout",
     "output_type": "stream",
     "text": [
      "here <class '__main__.Base'>\n",
      "here <class '__main__.Spam'>\n",
      "Base.a\n",
      "Spam.__init__\n",
      "Spam.a\n"
     ]
    }
   ],
   "source": [
    "# a metaclass\n",
    "class debugmeta(type):\n",
    "    def __new__(cls, clsname, bases, clsdict):\n",
    "        clsobj = super().__new__(cls, clsname, bases, clsdict)\n",
    "#         print(\"here\", cls, clsname, type(clsobj), clsobj)\n",
    "        clsobj = debugmethods(clsobj)\n",
    "#         print(vars(clsobj))\n",
    "        return clsobj\n",
    "\n",
    "class Base(metaclass=debugmeta):\n",
    "    def a(self):\n",
    "        pass\n",
    "    def b(self):\n",
    "        pass\n",
    "\n",
    "    \n",
    "class Spam(Base):\n",
    "    def __init__(self, name):\n",
    "        self.name = name\n",
    "        \n",
    "    def a(self):\n",
    "        pass\n",
    "    \n",
    "b = Base()\n",
    "b.a()\n",
    "s = Spam('name')\n",
    "s.a()"
   ]
  },
  {
   "cell_type": "markdown",
   "metadata": {},
   "source": [
    "从上面的例子中我们看到，有一个类有metaclass, 它的所有子类都有metaclass, 这说明metaclass是会被继承的。结合蔡元楠的《metaclass, 是潘多拉魔盒还是阿拉丁神灯》, 可以知道，这里debugmeta其实不只一种写法，在`__init__`函数里实现也是可以的。重载`__init__`的实现如下"
   ]
  },
  {
   "cell_type": "code",
   "execution_count": 21,
   "metadata": {},
   "outputs": [
    {
     "name": "stdout",
     "output_type": "stream",
     "text": [
      "here <class '__main__.Base'>\n",
      "here <class '__main__.Spam'>\n",
      "Base.a\n",
      "Spam.__init__\n",
      "Spam.a\n",
      "Spam.__init__\n",
      "Spam.a\n"
     ]
    }
   ],
   "source": [
    "# a metaclass\n",
    "class debugmeta(type):\n",
    "     def __init__(cls, name, bases, kwds):\n",
    "        super(debugmeta, cls).__init__(name, bases, kwds)\n",
    "        cls = debugmethods(cls)\n",
    "\n",
    "class Base(metaclass=debugmeta):\n",
    "    def a(self):\n",
    "        pass\n",
    "    def b(self):\n",
    "        pass\n",
    "\n",
    "    \n",
    "class Spam(Base):\n",
    "    def __init__(self, name):\n",
    "        self.name = name\n",
    "        \n",
    "    def a(self):\n",
    "        pass\n",
    "b = Base()\n",
    "b.a()\n",
    "s = Spam('lala')\n",
    "s.a()\n",
    "s = Spam('lblb')\n",
    "s.a()"
   ]
  },
  {
   "cell_type": "markdown",
   "metadata": {},
   "source": [
    "这是因为, 所有的类都是type的实例, 都是对type的`__call__`方法进行重载, 而type的`__call__`方法会调用`type.__new__(typeclass, classname, superclasses, attributedict)`和`type.__init__(class, classname, superclasses, attributedict)`, 所以上面重写`__new__`和重写`__init__`都是可以的。\n",
    "\n",
    "学到这里，我脑海里冒出了一个想法，就是为啥这里一定要用metaclass呢? 用继承的方式难道不行吗？于是自己尝试写了个继承的方式, 发现也是跑得通的。"
   ]
  },
  {
   "cell_type": "code",
   "execution_count": 26,
   "metadata": {},
   "outputs": [
    {
     "name": "stdout",
     "output_type": "stream",
     "text": [
      "here <class '__main__.Base'>\n",
      "Base.a\n",
      "here <class '__main__.Spam'>\n",
      "Spam.__init__\n",
      "Spam.a\n"
     ]
    }
   ],
   "source": [
    "# a baseclass\n",
    "class debugmeta:\n",
    "    def __new__(cls, *args, **kwargs):\n",
    "        cls = debugmethods(cls)\n",
    "        clsobj = object.__new__(cls)\n",
    "#         clsobj = debugmethods(clsobj)\n",
    "#         print('aaa', type(clsobj), clsobj)\n",
    "#         print('aaa', clsobj, type(clsobj), vars(clsobj), dir(clsobj), type(clsobj.a), callable(clsobj.a))\n",
    "        return clsobj\n",
    "    \n",
    "class Base(debugmeta):\n",
    "    def a(self):\n",
    "        pass\n",
    "\n",
    "    \n",
    "class Spam(Base):\n",
    "    def __init__(self, name):\n",
    "        self.name = name\n",
    "    def a(self):\n",
    "        pass\n",
    "\n",
    "    \n",
    "b = Base()\n",
    "b.a()\n",
    "s = Spam('name')\n",
    "s.a()"
   ]
  },
  {
   "cell_type": "markdown",
   "metadata": {},
   "source": [
    "但实际上，这样做法是有问题的，后面等到后面我们来纠正这个问题。\n",
    "\n",
    "既然如此，那么蔡元楠在《metaclass, 是潘多拉魔盒还是阿拉丁神灯》介绍的yaml的动态序列化和逆序列化的能力又为何要用metaclass实现呢？用继承难道不行吗？于是也写了一个继承的版本, 代码如下。"
   ]
  },
  {
   "cell_type": "code",
   "execution_count": 57,
   "metadata": {},
   "outputs": [
    {
     "name": "stdout",
     "output_type": "stream",
     "text": [
      "Monster(name=Cave spider, hp=[2, 6], ac=16, attacks=['BITE', 'HURT']\n",
      "Dragon(name=Cave spider, hp=[2, 6], ac=17, attacks=['BITE', 'HURT'], energy=5000)\n"
     ]
    }
   ],
   "source": [
    "import yaml\n",
    "\n",
    "\n",
    "class MyYAMLObjectBaseclass(object):\n",
    "    \"\"\"\n",
    "    The metaclass for YAMLObject.\n",
    "    \"\"\"\n",
    "    def __new__(cls, *args, **kwargs):\n",
    "        if cls.yaml_tag:\n",
    "            cls.yaml_loader.add_constructor(cls.yaml_tag, cls.from_yaml)\n",
    "            cls.yaml_dumper.add_representer(cls, cls.to_yaml)\n",
    "        return object.__new__(cls)\n",
    "\n",
    "class MyYAMLObject(MyYAMLObjectBaseclass):\n",
    "    \"\"\"\n",
    "    An object that can dump itself to a YAML stream\n",
    "    and load itself from a YAML stream.\n",
    "    \"\"\"\n",
    "\n",
    "    __slots__ = ()  # no direct instantiation, so allow immutable subclasses\n",
    "\n",
    "    yaml_loader = yaml.Loader\n",
    "    yaml_dumper = yaml.Dumper\n",
    "\n",
    "    yaml_tag = None\n",
    "    yaml_flow_style = None\n",
    "\n",
    "    @classmethod\n",
    "    def from_yaml(cls, loader, node):\n",
    "        \"\"\"\n",
    "        Convert a representation node to a Python object.\n",
    "        \"\"\"\n",
    "        return loader.construct_yaml_object(node, cls)\n",
    "\n",
    "    @classmethod\n",
    "    def to_yaml(cls, dumper, data):\n",
    "        \"\"\"\n",
    "        Convert a Python object to a representation node.\n",
    "        \"\"\"\n",
    "        return dumper.represent_yaml_object(cls.yaml_tag, data, cls,\n",
    "                flow_style=cls.yaml_flow_style)\n",
    "\n",
    "\n",
    "class Monster(MyYAMLObject):\n",
    "    yaml_tag = '!Monster'\n",
    "\n",
    "    def __init__(self, name, hp, ac, attacks):\n",
    "        self.name = name\n",
    "        self.hp = hp\n",
    "        self.ac = ac\n",
    "        self.attacks = attacks\n",
    "\n",
    "    def __repr__(self):\n",
    "        return \"{}(name={}, hp={}, ac={}, attacks={}\".format(self.__class__.__name__, self.name, self.hp,\n",
    "                                                             self.ac, self.attacks)\n",
    "\n",
    "\n",
    "class Dragon(Monster):\n",
    "    yaml_tag = '!Dragon'\n",
    "\n",
    "    def __init__(self, name, hp, ac, attacks, energy):\n",
    "        super(Dragon, self).__init__(name, hp, ac, attacks)\n",
    "        self.energy = energy\n",
    "\n",
    "    def __repr__(self):\n",
    "        return \"{}(name={}, hp={}, ac={}, attacks={}, energy={})\".format(self.__class__.__name__, self.name, self.hp,\n",
    "                                                             self.ac, self.attacks, self.energy)\n",
    "\n",
    "m = Monster(name='Cave spider', hp=[2, 6], ac=16, attacks=['BITE', 'HURT'])\n",
    "ms = yaml.dump(m)\n",
    "# print(ms)\n",
    "d = Dragon(name='Cave spider', hp=[2, 6], ac=17, attacks=['BITE', 'HURT'], energy=5000)\n",
    "ds = yaml.dump(d)\n",
    "# print(ds)\n",
    "\n",
    "print(yaml.load(ms, Loader=yaml.Loader))\n",
    "print(yaml.load(ds, Loader=yaml.Loader))"
   ]
  },
  {
   "cell_type": "markdown",
   "metadata": {},
   "source": [
    "所以其实到这里我还是没有明白为啥yaml要用metaclass来实现这个功能, 直到把子类的yaml_tag去掉, 才发现问题。"
   ]
  },
  {
   "cell_type": "code",
   "execution_count": 58,
   "metadata": {},
   "outputs": [
    {
     "ename": "AttributeError",
     "evalue": "'Dragon' object has no attribute 'energy'",
     "output_type": "error",
     "traceback": [
      "\u001b[0;31m---------------------------------------------------------------------------\u001b[0m",
      "\u001b[0;31mAttributeError\u001b[0m                            Traceback (most recent call last)",
      "\u001b[0;32m<ipython-input-58-1e3c4c44fbaf>\u001b[0m in \u001b[0;36m<module>\u001b[0;34m\u001b[0m\n\u001b[1;32m     33\u001b[0m \u001b[0;31m# print(ds)\u001b[0m\u001b[0;34m\u001b[0m\u001b[0;34m\u001b[0m\u001b[0;34m\u001b[0m\u001b[0m\n\u001b[1;32m     34\u001b[0m \u001b[0;34m\u001b[0m\u001b[0m\n\u001b[0;32m---> 35\u001b[0;31m \u001b[0mprint\u001b[0m\u001b[0;34m(\u001b[0m\u001b[0myaml\u001b[0m\u001b[0;34m.\u001b[0m\u001b[0mload\u001b[0m\u001b[0;34m(\u001b[0m\u001b[0mms\u001b[0m\u001b[0;34m,\u001b[0m \u001b[0mLoader\u001b[0m\u001b[0;34m=\u001b[0m\u001b[0myaml\u001b[0m\u001b[0;34m.\u001b[0m\u001b[0mLoader\u001b[0m\u001b[0;34m)\u001b[0m\u001b[0;34m)\u001b[0m\u001b[0;34m\u001b[0m\u001b[0;34m\u001b[0m\u001b[0m\n\u001b[0m\u001b[1;32m     36\u001b[0m \u001b[0mprint\u001b[0m\u001b[0;34m(\u001b[0m\u001b[0myaml\u001b[0m\u001b[0;34m.\u001b[0m\u001b[0mload\u001b[0m\u001b[0;34m(\u001b[0m\u001b[0mds\u001b[0m\u001b[0;34m,\u001b[0m \u001b[0mLoader\u001b[0m\u001b[0;34m=\u001b[0m\u001b[0myaml\u001b[0m\u001b[0;34m.\u001b[0m\u001b[0mLoader\u001b[0m\u001b[0;34m)\u001b[0m\u001b[0;34m)\u001b[0m\u001b[0;34m\u001b[0m\u001b[0;34m\u001b[0m\u001b[0m\n",
      "\u001b[0;32m<ipython-input-58-1e3c4c44fbaf>\u001b[0m in \u001b[0;36m__repr__\u001b[0;34m(self)\u001b[0m\n\u001b[1;32m     24\u001b[0m     \u001b[0;32mdef\u001b[0m \u001b[0m__repr__\u001b[0m\u001b[0;34m(\u001b[0m\u001b[0mself\u001b[0m\u001b[0;34m)\u001b[0m\u001b[0;34m:\u001b[0m\u001b[0;34m\u001b[0m\u001b[0;34m\u001b[0m\u001b[0m\n\u001b[1;32m     25\u001b[0m         return \"{}(name={}, hp={}, ac={}, attacks={}, energy={})\".format(self.__class__.__name__, self.name, self.hp,\n\u001b[0;32m---> 26\u001b[0;31m                                                              self.ac, self.attacks, self.energy)\n\u001b[0m\u001b[1;32m     27\u001b[0m \u001b[0;34m\u001b[0m\u001b[0m\n\u001b[1;32m     28\u001b[0m \u001b[0mm\u001b[0m \u001b[0;34m=\u001b[0m \u001b[0mMonster\u001b[0m\u001b[0;34m(\u001b[0m\u001b[0mname\u001b[0m\u001b[0;34m=\u001b[0m\u001b[0;34m'Cave spider'\u001b[0m\u001b[0;34m,\u001b[0m \u001b[0mhp\u001b[0m\u001b[0;34m=\u001b[0m\u001b[0;34m[\u001b[0m\u001b[0;36m2\u001b[0m\u001b[0;34m,\u001b[0m \u001b[0;36m6\u001b[0m\u001b[0;34m]\u001b[0m\u001b[0;34m,\u001b[0m \u001b[0mac\u001b[0m\u001b[0;34m=\u001b[0m\u001b[0;36m16\u001b[0m\u001b[0;34m,\u001b[0m \u001b[0mattacks\u001b[0m\u001b[0;34m=\u001b[0m\u001b[0;34m[\u001b[0m\u001b[0;34m'BITE'\u001b[0m\u001b[0;34m,\u001b[0m \u001b[0;34m'HURT'\u001b[0m\u001b[0;34m]\u001b[0m\u001b[0;34m)\u001b[0m\u001b[0;34m\u001b[0m\u001b[0;34m\u001b[0m\u001b[0m\n",
      "\u001b[0;31mAttributeError\u001b[0m: 'Dragon' object has no attribute 'energy'"
     ]
    }
   ],
   "source": [
    "import yaml\n",
    "\n",
    "\n",
    "class Monster(MyYAMLObject):\n",
    "    yaml_tag = '!Monster'\n",
    "\n",
    "    def __init__(self, name, hp, ac, attacks):\n",
    "        self.name = name\n",
    "        self.hp = hp\n",
    "        self.ac = ac\n",
    "        self.attacks = attacks\n",
    "\n",
    "    def __repr__(self):\n",
    "        return \"{}(name={}, hp={}, ac={}, attacks={}\".format(self.__class__.__name__, self.name, self.hp,\n",
    "                                                             self.ac, self.attacks)\n",
    "\n",
    "\n",
    "class Dragon(Monster):\n",
    "\n",
    "    def __init__(self, name, hp, ac, attacks, energy):\n",
    "        super(Dragon, self).__init__(name, hp, ac, attacks)\n",
    "        self.energy = energy\n",
    "\n",
    "    def __repr__(self):\n",
    "        return \"{}(name={}, hp={}, ac={}, attacks={}, energy={})\".format(self.__class__.__name__, self.name, self.hp,\n",
    "                                                             self.ac, self.attacks, self.energy)\n",
    "\n",
    "m = Monster(name='Cave spider', hp=[2, 6], ac=16, attacks=['BITE', 'HURT'])\n",
    "ms = yaml.dump(m)\n",
    "# print(ms)\n",
    "d = Dragon(name='Cave spider', hp=[2, 6], ac=17, attacks=['BITE', 'HURT'], energy=5000)\n",
    "ds = yaml.dump(d)\n",
    "# print(ds)\n",
    "\n",
    "print(yaml.load(ms, Loader=yaml.Loader))\n",
    "print(yaml.load(ds, Loader=yaml.Loader))"
   ]
  },
  {
   "cell_type": "markdown",
   "metadata": {},
   "source": [
    "这是因为Dragon这里没有yaml_tag的时候, 会继承父类Monster的yaml_tag, 这时Dragon.yaml_tag就是非空, 然后就会将!Monster这个标记与Dragon绑定到一起了, 覆盖了前面!Monster与Monster的绑定, 这时再去加载Monster类dump出来的内容, 就会报没有energy. 而使用metaclass就不存在这个问题, 因为在创建Dragon类时, 传入的属性字典里不会带有yaml_tag, 也就不会将!Monster这个标记与Dragon绑定到一起. 写代码测试如下"
   ]
  },
  {
   "cell_type": "code",
   "execution_count": 64,
   "metadata": {},
   "outputs": [
    {
     "name": "stdout",
     "output_type": "stream",
     "text": [
      "<class '__main__.MyYAMLObject'> MyYAMLObject () {'__module__': '__main__', '__qualname__': 'MyYAMLObject', '__doc__': '\\n    An object that can dump itself to a YAML stream\\n    and load itself from a YAML stream.\\n    ', '__slots__': (), 'yaml_loader': <class 'yaml.loader.Loader'>, 'yaml_dumper': <class 'yaml.dumper.Dumper'>, 'yaml_tag': None, 'yaml_flow_style': None, 'from_yaml': <classmethod object at 0x1038e9320>, 'to_yaml': <classmethod object at 0x1038e9390>}\n",
      "<class '__main__.Monster'> Monster (<class '__main__.MyYAMLObject'>,) {'__module__': '__main__', '__qualname__': 'Monster', 'yaml_tag': '!Monster', '__init__': <function Monster.__init__ at 0x1038d2f28>, '__repr__': <function Monster.__repr__ at 0x1038ce048>}\n",
      "<class '__main__.Dragon'> Dragon (<class '__main__.Monster'>,) {'__module__': '__main__', '__qualname__': 'Dragon', '__init__': <function Dragon.__init__ at 0x1038ce0d0>, '__repr__': <function Dragon.__repr__ at 0x1038ce158>, '__classcell__': <cell at 0x103837af8: ThisYAMLObjectMetaclass object at 0x7fc8fb130de8>}\n",
      "Monster(name=Cave spider, hp=[2, 6], ac=16, attacks=['BITE', 'HURT']\n",
      "Dragon(name=Cave spider, hp=[2, 6], ac=17, attacks=['BITE', 'HURT'], energy=5000)\n"
     ]
    }
   ],
   "source": [
    "import yaml\n",
    "\n",
    "\n",
    "class MyYAMLObjectMetaclass(type):\n",
    "    \"\"\"\n",
    "    The metaclass for YAMLObject.\n",
    "    \"\"\"\n",
    "    def __new__(cls, name, bases, kwds):\n",
    "        print(cls, name, bases, kwds)\n",
    "        clsobj = super().__new__(cls, name, bases, kwds)\n",
    "        if 'yaml_tag' in kwds and kwds['yaml_tag'] is not None:\n",
    "            clsobj.yaml_loader.add_constructor(clsobj.yaml_tag, clsobj.from_yaml)\n",
    "            clsobj.yaml_dumper.add_representer(clsobj, clsobj.to_yaml)\n",
    "        return clsobj\n",
    "\n",
    "class ThisYAMLObjectMetaclass(type):\n",
    "    \"\"\"\n",
    "    The metaclass for YAMLObject.\n",
    "    \"\"\"\n",
    "    def __init__(cls, name, bases, kwds):\n",
    "        print(cls, name, bases, kwds)\n",
    "        super(ThisYAMLObjectMetaclass, cls).__init__(name, bases, kwds)\n",
    "        if 'yaml_tag' in kwds and kwds['yaml_tag'] is not None:\n",
    "            cls.yaml_loader.add_constructor(cls.yaml_tag, cls.from_yaml)\n",
    "            cls.yaml_dumper.add_representer(cls, cls.to_yaml)\n",
    "\n",
    "\n",
    "class ThisYAMLObjectBaseclass(object):\n",
    "    \"\"\"\n",
    "    The metaclass for YAMLObject.\n",
    "    \"\"\"\n",
    "    def __new__(cls, *args, **kwargs):\n",
    "        print('base __new__', cls, args, kwargs)\n",
    "        if cls.yaml_tag:\n",
    "            cls.yaml_loader.add_constructor(cls.yaml_tag, cls.from_yaml)\n",
    "            cls.yaml_dumper.add_representer(cls, cls.to_yaml)\n",
    "        return object.__new__(cls)\n",
    "\n",
    "\n",
    "class MyYAMLObject(metaclass=ThisYAMLObjectMetaclass):\n",
    "# class MyYAMLObject(ThisYAMLObjectBaseclass):\n",
    "# class MyYAMLObject(metaclass=MyYAMLObjectMetaclass):\n",
    "    \"\"\"\n",
    "    An object that can dump itself to a YAML stream\n",
    "    and load itself from a YAML stream.\n",
    "    \"\"\"\n",
    "\n",
    "    __slots__ = ()  # no direct instantiation, so allow immutable subclasses\n",
    "\n",
    "    yaml_loader = yaml.Loader\n",
    "    yaml_dumper = yaml.Dumper\n",
    "\n",
    "    yaml_tag = None\n",
    "    yaml_flow_style = None\n",
    "\n",
    "    @classmethod\n",
    "    def from_yaml(cls, loader, node):\n",
    "        \"\"\"\n",
    "        Convert a representation node to a Python object.\n",
    "        \"\"\"\n",
    "        return loader.construct_yaml_object(node, cls)\n",
    "\n",
    "    @classmethod\n",
    "    def to_yaml(cls, dumper, data):\n",
    "        \"\"\"\n",
    "        Convert a Python object to a representation node.\n",
    "        \"\"\"\n",
    "        return dumper.represent_yaml_object(cls.yaml_tag, data, cls,\n",
    "                flow_style=cls.yaml_flow_style)\n",
    "\n",
    "\n",
    "class Monster(MyYAMLObject):\n",
    "    yaml_tag = '!Monster'\n",
    "\n",
    "    def __init__(self, name, hp, ac, attacks):\n",
    "        self.name = name\n",
    "        self.hp = hp\n",
    "        self.ac = ac\n",
    "        self.attacks = attacks\n",
    "\n",
    "    def __repr__(self):\n",
    "        return \"{}(name={}, hp={}, ac={}, attacks={}\".format(self.__class__.__name__, self.name, self.hp,\n",
    "                                                             self.ac, self.attacks)\n",
    "\n",
    "\n",
    "class Dragon(Monster):\n",
    "    # yaml_tag = '!Dragon'\n",
    "\n",
    "    def __init__(self, name, hp, ac, attacks, energy):\n",
    "        super(Dragon, self).__init__(name, hp, ac, attacks)\n",
    "        self.energy = energy\n",
    "\n",
    "    def __repr__(self):\n",
    "        return \"{}(name={}, hp={}, ac={}, attacks={}, energy={})\".format(self.__class__.__name__, self.name, self.hp,\n",
    "                                                             self.ac, self.attacks, self.energy)\n",
    "\n",
    "m = Monster(name='Cave spider', hp=[2, 6], ac=16, attacks=['BITE', 'HURT'])\n",
    "ms = yaml.dump(m)\n",
    "# print(ms)\n",
    "d = Dragon(name='Cave spider', hp=[2, 6], ac=17, attacks=['BITE', 'HURT'], energy=5000)\n",
    "ds = yaml.dump(d)\n",
    "# print(ds)\n",
    "\n",
    "print(yaml.load(ms, Loader=yaml.Loader))\n",
    "print(yaml.load(ds, Loader=yaml.Loader))"
   ]
  },
  {
   "cell_type": "markdown",
   "metadata": {},
   "source": [
    "从上面的结果里可以看到, yaml_tag是没有在Dragon类的属性字典里的，即便是Dragon类会从Monster那里继承yaml_tag.\n",
    "\n",
    "回到前面的用基类来实现对所有类使用debugmethods进行装饰的例子。这里因为每次创建对象的时候都会调用`__new__`方法, 会导致多次调用debugmethods装饰器, 这样会导致创建多少个对象, 调用一次类的方法就会输有多次, 测试如下"
   ]
  },
  {
   "cell_type": "code",
   "execution_count": 28,
   "metadata": {},
   "outputs": [
    {
     "name": "stdout",
     "output_type": "stream",
     "text": [
      "here <class '__main__.Base'>\n",
      "Base.a\n",
      "here <class '__main__.Spam'>\n",
      "Spam.__init__\n",
      "Spam.a\n",
      "-------\n",
      "here <class '__main__.Spam'>\n",
      "Spam.__init__\n",
      "Spam.__init__\n",
      "Spam.a\n",
      "Spam.a\n"
     ]
    }
   ],
   "source": [
    "# a baseclass\n",
    "class debugmeta:\n",
    "    def __new__(cls, *args, **kwargs):\n",
    "        cls = debugmethods(cls)\n",
    "        clsobj = object.__new__(cls)\n",
    "#         clsobj = debugmethods(clsobj)\n",
    "#         print('aaa', type(clsobj), clsobj)\n",
    "#         print('aaa', clsobj, type(clsobj), vars(clsobj), dir(clsobj), type(clsobj.a), callable(clsobj.a))\n",
    "        return clsobj\n",
    "    \n",
    "class Base(debugmeta):\n",
    "    def a(self):\n",
    "        pass\n",
    "\n",
    "    \n",
    "class Spam(Base):\n",
    "    def __init__(self, name):\n",
    "        self.name = name\n",
    "    def a(self):\n",
    "        pass\n",
    "\n",
    "    \n",
    "b = Base()\n",
    "b.a()\n",
    "s = Spam('name')\n",
    "s.a()\n",
    "print('-------')\n",
    "s = Spam('lblb')\n",
    "s.a()"
   ]
  },
  {
   "cell_type": "markdown",
   "metadata": {},
   "source": [
    "这里Spam类创建了两个对象, 就调用了两次debugmethods, 所以会有两次输出。\n",
    "\n",
    "到了这里, 我终于明白为什么要用metaclass来解决对于所有类使用debugmethods来装饰的问题，因为在metaclass里实现，则只会调用一次，因为一个类的创建只需要一次。也明白为什么yaml要使用metaclass, 而不是继承了。\n",
    "\n",
    "总的来说, metaclass并不是什么奇淫巧技，简单来说就是一种改变类创建过程的能力。当然, 绝大多数情况下都不需要用到它。"
   ]
  }
 ],
 "metadata": {
  "kernelspec": {
   "display_name": "Python 3",
   "language": "python",
   "name": "python3"
  },
  "language_info": {
   "codemirror_mode": {
    "name": "ipython",
    "version": 3
   },
   "file_extension": ".py",
   "mimetype": "text/x-python",
   "name": "python",
   "nbconvert_exporter": "python",
   "pygments_lexer": "ipython3",
   "version": "3.7.3"
  }
 },
 "nbformat": 4,
 "nbformat_minor": 2
}
